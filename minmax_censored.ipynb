{
 "cells": [
  {
   "cell_type": "markdown",
   "metadata": {},
   "source": [
    "# Designing a Game Playing AI Using MinMax with α - β Pruning\n",
    "## Introduction\n",
    "\n",
    "Our objective is to use Min-Max with alpha / beta pruning to find a winning strategy for either player. Moreover, both players will try to win as fast as possible."
   ]
  },
  {
   "cell_type": "code",
   "execution_count": 1,
   "metadata": {},
   "outputs": [],
   "source": [
    "import numpy as np\n",
    "import itertools"
   ]
  },
  {
   "cell_type": "markdown",
   "metadata": {},
   "source": [
    "## Tic Tac Toe\n",
    "Also known as \"Noughts and Crosses\". The roots of this game can be traced back to ancient Egyp, where such game boards have been found on roofing tiles dating from around 1300 BCE. It was also one of the first computer games; In 1952, ritish computer scientist Alexander S. Douglas developed OXO (or Noughts and Crosses) for the EDSAC computer at the University of Cambridge. His implememntation used MinMax and was able to play a perfect game against a human oponent.\n",
    "\n",
    "This class implememnts a TicTacToa game. The followng are the methods:\n",
    "* make_copy   : returns a copy of the game object.\n",
    "* move(ii,jj) : the player who's turn it is will check cell ii,jj\n",
    "* children    : returns a list of all game objects that result from 1 move\n",
    "* result      : returns the result, always between \\[-1,1\\]. A negative result indicates a player 2 win, 0 indicates a tie.\n",
    "* final_move  : return true if the current game is at a final state."
   ]
  },
  {
   "cell_type": "code",
   "execution_count": 2,
   "metadata": {},
   "outputs": [],
   "source": [
    "class game_TicTacToe:\n",
    "    def __init__(self):\n",
    "        self.ROWS = 3\n",
    "        self.COLS = 3\n",
    "        self.board = np.zeros((self.ROWS,self.COLS))\n",
    "        self.player = 1;\n",
    "        self.numMoves = 1;\n",
    "        \n",
    "    def make_copy(self):\n",
    "        newGame = game_TicTacToe()\n",
    "        newGame.board = self.board.copy()\n",
    "        newGame.player = self.player\n",
    "        return newGame\n",
    "    \n",
    "    def move(self,ii,jj):\n",
    "        if self.board[ii,jj] == 0:\n",
    "            self.board[ii,jj] = self.player\n",
    "        self.player *= -1\n",
    "        self.numMoves += 1;\n",
    "        return        \n",
    "        \n",
    "    def children(self):\n",
    "        children = []\n",
    "        for ii, jj in np.argwhere(self.board == 0):\n",
    "            newGame = self.make_copy()\n",
    "            newGame.move(ii,jj)\n",
    "            children.append(newGame)\n",
    "        return children\n",
    "    \n",
    "    def result(self):\n",
    "        PL1 = 3.0\n",
    "        PL2 = -3.0\n",
    "        if max(np.sum(self.board, axis=0)) == PL1 or max(np.sum(self.board, axis=1)) == PL1 or \\\n",
    "            np.trace(self.board) == PL1 or np.trace(np.fliplr(self.board)) == PL1:\n",
    "            return 1/self.numMoves\n",
    "        if min(np.sum(self.board, axis=0)) == PL2 or min(np.sum(self.board, axis=1)) == PL2 or \\\n",
    "            np.trace(self.board) == PL2 or np.trace(np.fliplr(self.board)) == PL2:\n",
    "            return -1/self.numMoves\n",
    "        return 0\n",
    "    \n",
    "    def final_move(self):\n",
    "        return self.ROWS*self.COLS==len(np.nonzero(self.board)[0]) or (self.result() != 0)"
   ]
  },
  {
   "cell_type": "markdown",
   "metadata": {},
   "source": [
    "## Chomp (Gale-Game)\n",
    "This is a newer game was developed by the mathematician David Gale (still kickin in cali). The game is usually formulated in terms of a chocolate bar were each of two players tries to avoid eating the last square. The players in turn choose one block and \"eat it\" (remove from the board), together with those that are below it and to its right. The top left block is \"poisoned\" and the player who eats this loses.  \n",
    "\n",
    "This class implememnts a Chomp game. The followng are the methods:\n",
    "* make_copy   : returns a copy of the game object.\n",
    "* move(ii,jj) : the player who's turn it is will check cell ii,jj\n",
    "* children    : returns a list of all game objects that result from 1 move\n",
    "* result      : returns the result, always between \\[-1,1\\]. A negative result indicates a player 2 win, 0 indicates a tie.\n",
    "* final_move  : return true of the current game is at a final state."
   ]
  },
  {
   "cell_type": "code",
   "execution_count": 3,
   "metadata": {},
   "outputs": [],
   "source": [
    "class game_Chomp:\n",
    "    def __init__(self,ROWS=3,COLS=3):\n",
    "        self.ROWS = ROWS\n",
    "        self.COLS = COLS\n",
    "        self.board = np.zeros((self.ROWS,self.COLS))\n",
    "        self.player = 1;\n",
    "        self.numMoves = 1;\n",
    "        \n",
    "    def make_copy(self):\n",
    "        newGame = game_Chomp(self.ROWS,self.COLS)\n",
    "        newGame.board = self.board.copy()\n",
    "        newGame.player = self.player\n",
    "        newGame.numMoves = self.numMoves\n",
    "        return newGame\n",
    "    \n",
    "    def move(self,ii,jj):\n",
    "        self.board[ii:self.ROWS,jj:self.COLS] = self.player;\n",
    "        self.player *= -1\n",
    "        self.numMoves += 1\n",
    "        return        \n",
    "        \n",
    "    def children(self):\n",
    "        children = []\n",
    "        for ii, jj in np.argwhere(self.board == 0):\n",
    "            newGame = self.make_copy()\n",
    "            newGame.move(ii,jj)\n",
    "            children.append(newGame)\n",
    "        return children\n",
    "    \n",
    "    def result(self):\n",
    "        return -self.board[0,0] / float(self.numMoves)\n",
    "    \n",
    "    def final_move(self):\n",
    "        return self.ROWS*self.COLS==len(np.nonzero(self.board)[0]) or (self.result() != 0)"
   ]
  },
  {
   "cell_type": "markdown",
   "metadata": {},
   "source": [
    "# Show_game\n",
    "\n",
    "Given a list of \"boards\" (every game class has a board field) this method will draw the game. For instance it might draw the following TicTacToa game:"
   ]
  },
  {
   "cell_type": "code",
   "execution_count": 23,
   "metadata": {},
   "outputs": [
    {
     "name": "stdout",
     "output_type": "stream",
     "text": [
      " X |   |      X |   |      X | X |      X | X |      X | X | X \n",
      "-----------  -----------  -----------  -----------  -----------\n",
      "   |   |        | O |        | O |        | O |        | O |   \n",
      "-----------  -----------  -----------  -----------  -----------\n",
      "   |   |        |   |        |   |      O |   |      O |   |   \n"
     ]
    }
   ],
   "source": [
    "\"\"\"\n",
    "Given a list of \"boards\" (every game class has a board field) this method will draw the game. \n",
    "For instance it might draw the following TicTacToa game:\n",
    "\"\"\""
   ]
  },
  {
   "cell_type": "code",
   "execution_count": 4,
   "metadata": {},
   "outputs": [],
   "source": [
    "def show_game(plays,gameType='TicTacToe'):\n",
    "    if np.sum(np.sum(np.abs(plays[0]))) != 0:\n",
    "        plays.reverse()\n",
    "    def ticks(player):\n",
    "        if player == 1:\n",
    "            return 'X'\n",
    "        if player == -1:\n",
    "            if gameType == 'TicTacToe':\n",
    "                return 'O'\n",
    "            return 'X'\n",
    "        return ' '\n",
    "    gameStr = ''\n",
    "    for play in plays:\n",
    "        playStr = []\n",
    "        ROWS,COLS =  np.shape(play)\n",
    "        for i in range(0,ROWS):\n",
    "            playStr.append('|'.join([' '+ticks(play[i,j])+' ' for j in range(0,COLS)]))\n",
    "        playStr = '\\n-----------\\n'.join(playStr)\n",
    "        gameStr += playStr\n",
    "        gameStr +='\\n\\n'\n",
    "    return gameStr"
   ]
  },
  {
   "cell_type": "markdown",
   "metadata": {},
   "source": [
    "# Min Max\n",
    "\n",
    "Create a class of MinMax that has an alpha beta method.\n",
    "\n",
    "Params: game object, current alpha, current beta, and True if it's the max turn.\n",
    "Returns: a list of the boards of the best game alpha and beta could play, and the result of the game (same as the result of the game object that has the last board)"
   ]
  },
  {
   "cell_type": "code",
   "execution_count": 16,
   "metadata": {},
   "outputs": [],
   "source": [
    "GLOBAL_NUM_CALLS = 0"
   ]
  },
  {
   "cell_type": "code",
   "execution_count": 29,
   "metadata": {},
   "outputs": [],
   "source": [
    "# min max alpha beta\n",
    "class minmax_alphabeta(object):\n",
    "    def __init__(self,game):\n",
    "        self.game = game\n",
    "        self.bestPlay = list()\n",
    "        return\n",
    "\n",
    "    # get a strategy to win the game    \n",
    "    def minmax(self, game=None, maximizingPlayer=True):\n",
    "        global GLOBAL_NUM_CALLS\n",
    "        GLOBAL_NUM_CALLS += 1\n",
    "        if game == None:\n",
    "            game = self.game\n",
    "            \n",
    "        # COMPLETE ...\n",
    "        \n",
    "        if maximizingPlayer:\n",
    "            # COMPLETE ...\n",
    "            return bestPlay,value\n",
    "        else:\n",
    "            # COMPLETE ...\n",
    "            return bestPlay,value\n",
    "        \n",
    "    # get a strategy to win the game\n",
    "    def alpabeta(self, game=None, a=-np.inf, b=np.inf, maximizingPlayer=True):\n",
    "        global GLOBAL_NUM_CALLS\n",
    "        GLOBAL_NUM_CALLS += 1\n",
    "        if game == None:\n",
    "            game = self.game\n",
    "            \n",
    "        # COMPLETE ...\n",
    "        \n",
    "        if maximizingPlayer:\n",
    "            # COMPLETE ...\n",
    "            return bestPlay,value\n",
    "        else:\n",
    "            # COMPLETE ...\n",
    "            return bestPlay,value"
   ]
  },
  {
   "cell_type": "markdown",
   "metadata": {},
   "source": [
    "## Tic Tac Toe Strategy\n",
    "Is there a winning strategy for either player in TicTacToa?\n",
    "How long can the the loosing player strech the game for?"
   ]
  },
  {
   "cell_type": "code",
   "execution_count": null,
   "metadata": {},
   "outputs": [],
   "source": [
    "GLOBAL_NUM_CALLS = 0\n",
    "minmax = minmax_alphabeta(game_TicTacToe())\n",
    "bestPlay, res = minmax.minmax()\n",
    "print(show_game(bestPlay))\n",
    "if res == 0:\n",
    "    print('A perfect game results in a tie')\n",
    "else:\n",
    "    print('player '+str(int(-np.sign(res)*1/2 +1.5))+' wins in turn '+str(int(1/res)))\n",
    "print('There were '+str(GLOBAL_NUM_CALLS)+' calls!')"
   ]
  },
  {
   "cell_type": "code",
   "execution_count": null,
   "metadata": {},
   "outputs": [],
   "source": [
    "GLOBAL_NUM_CALLS = 0\n",
    "minmax = minmax_alphabeta(game_TicTacToe())\n",
    "bestPlay, res = minmax.alpabeta()\n",
    "print(show_game(bestPlay))\n",
    "if res == 0:\n",
    "    print('A perfect game results in a tie')\n",
    "else:\n",
    "    print('player '+str(int(-np.sign(res)*1/2 +1.5))+' wins in turn '+str(int(1/res)))\n",
    "print('There were '+str(GLOBAL_NUM_CALLS)+' calls!')"
   ]
  },
  {
   "cell_type": "markdown",
   "metadata": {},
   "source": [
    "## Chomp Strategy\n",
    "Is there a winning strategy for either player in TicTacToa?\n",
    "How long can the the loosing player strech the game for?"
   ]
  },
  {
   "cell_type": "code",
   "execution_count": null,
   "metadata": {},
   "outputs": [],
   "source": [
    "minmax = minmax_alphabeta(game_Chomp(4,4))\n",
    "bestPlay, res = minmax.alpabeta()\n",
    "print(show_game(bestPlay,'Chomp'))\n",
    "if res == 0:\n",
    "    print('A perfect game results in a tie')\n",
    "else:\n",
    "    print('player '+str(int(-np.sign(res)*1/2 +1.5))+' wins in turn '+str(int(1/res)))"
   ]
  }
 ],
 "metadata": {
  "kernelspec": {
   "display_name": "Python 3",
   "language": "python",
   "name": "python3"
  },
  "language_info": {
   "codemirror_mode": {
    "name": "ipython",
    "version": 3
   },
   "file_extension": ".py",
   "mimetype": "text/x-python",
   "name": "python",
   "nbconvert_exporter": "python",
   "pygments_lexer": "ipython3",
   "version": "3.6.8"
  }
 },
 "nbformat": 4,
 "nbformat_minor": 2
}
